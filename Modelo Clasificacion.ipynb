{
 "cells": [
  {
   "cell_type": "markdown",
   "metadata": {},
   "source": [
    "---\n",
    "\n",
    "# Caso - Gigantes Rojos\n",
    "\n",
    "Contexto del Problema\n",
    "Usted ha sido contratado como parte de un equipo de científicos que busca aplicar ciencia de datos a las investigaciones sobre astronomía. Deberá, por lo tanto poner a prueba todas las habilidades y conocimientos adquiridos a lo largo de este curso. \n",
    "Su primer desafío consiste en apoyar al equipo de científicos que está estudiando a los “Gigantes Rojos” (Red Giants). Los Gigantes Rojos son estrellas gigantes de masa baja o intermedia que, tras haber consumido el hidrógeno en un núcleo, comienzan a quemar hidrógeno en una cáscara alrededor del núcleo de helio inerte, lo cual provoca un efecto de aumento de volumen de la estrella y un enfriamiento en la superficie, por lo que su color se torna rojizo.\n",
    "\n",
    "\n",
    "- POP: nuestro campo objetivo  \n",
    "        0: RGB Red Giant Branch\n",
    "        1: HeB Helium Burning \n",
    "- Dnu: Frecuencia\n",
    "- numax: Oscilación\n",
    "- epsilon: salario estimado\n",
    "\n",
    "•\tProducto 1: Análisis Exploratorio de los datos, utilizando los conceptos, técnicas y herramientas vistos en clase que sean de utilidad para llevar a cabo este producto.\n",
    "\n",
    "•\tProducto 2: Modelo de aprendizaje de máquina que permita clasificar un gigante rojo de acuerdo a la clase RGB ó HeB.\n",
    "\n",
    "•\tProducto 3: Una aplicación Python de consola que permita realizar la predicción de un gigante rojo a partir de sus características, utilizando el modelo entrenado anteriormente. La idea es que el aplicativo se ejecute en la consola, permita el ingreso de los parámetros de entrada (dnu, numax, etc), y el aplicativo retorne qué clase de gigante rojo se trata.\n",
    "\n"
   ]
  },
  {
   "cell_type": "code",
   "execution_count": 551,
   "metadata": {},
   "outputs": [],
   "source": [
    "import numpy as np\n",
    "import pandas as pd\n",
    "import matplotlib.pyplot as plt\n",
    "import seaborn as sns\n",
    "%matplotlib inline"
   ]
  },
  {
   "cell_type": "code",
   "execution_count": 552,
   "metadata": {},
   "outputs": [],
   "source": [
    "# leemos nuestro origen de datos\n",
    "df_gigantesrojos=pd.read_csv(\"\\\\kibernumacademy\\\\asteroseismology.csv\",header=0)"
   ]
  },
  {
   "cell_type": "code",
   "execution_count": 553,
   "metadata": {
    "scrolled": true
   },
   "outputs": [
    {
     "data": {
      "text/html": [
       "<div>\n",
       "<style scoped>\n",
       "    .dataframe tbody tr th:only-of-type {\n",
       "        vertical-align: middle;\n",
       "    }\n",
       "\n",
       "    .dataframe tbody tr th {\n",
       "        vertical-align: top;\n",
       "    }\n",
       "\n",
       "    .dataframe thead th {\n",
       "        text-align: right;\n",
       "    }\n",
       "</style>\n",
       "<table border=\"1\" class=\"dataframe\">\n",
       "  <thead>\n",
       "    <tr style=\"text-align: right;\">\n",
       "      <th></th>\n",
       "      <th>POP</th>\n",
       "      <th>Dnu</th>\n",
       "      <th>numax</th>\n",
       "      <th>epsilon</th>\n",
       "    </tr>\n",
       "  </thead>\n",
       "  <tbody>\n",
       "    <tr>\n",
       "      <th>0</th>\n",
       "      <td>1</td>\n",
       "      <td>4.44780</td>\n",
       "      <td>43.06289</td>\n",
       "      <td>0.985</td>\n",
       "    </tr>\n",
       "    <tr>\n",
       "      <th>1</th>\n",
       "      <td>0</td>\n",
       "      <td>6.94399</td>\n",
       "      <td>74.07646</td>\n",
       "      <td>0.150</td>\n",
       "    </tr>\n",
       "  </tbody>\n",
       "</table>\n",
       "</div>"
      ],
      "text/plain": [
       "   POP      Dnu     numax  epsilon\n",
       "0    1  4.44780  43.06289    0.985\n",
       "1    0  6.94399  74.07646    0.150"
      ]
     },
     "execution_count": 553,
     "metadata": {},
     "output_type": "execute_result"
    }
   ],
   "source": [
    "# Esta función devuelve las primeras n filas del objeto según la posición. Es útil para probar rápidamente si su objeto tiene el tipo correcto de datos.\n",
    "df_gigantesrojos.head(2)"
   ]
  },
  {
   "cell_type": "markdown",
   "metadata": {},
   "source": [
    "### Análisis Exploratorio\n",
    "##### El análisis exploratorio de datos implica el uso de gráficos y visualizaciones para explorar y analizar un conjunto de datos. El objetivo es explorar, investigar y aprender, no confirmar hipótesis estadísticas. "
   ]
  },
  {
   "cell_type": "code",
   "execution_count": 554,
   "metadata": {},
   "outputs": [
    {
     "data": {
      "text/html": [
       "<div>\n",
       "<style scoped>\n",
       "    .dataframe tbody tr th:only-of-type {\n",
       "        vertical-align: middle;\n",
       "    }\n",
       "\n",
       "    .dataframe tbody tr th {\n",
       "        vertical-align: top;\n",
       "    }\n",
       "\n",
       "    .dataframe thead th {\n",
       "        text-align: right;\n",
       "    }\n",
       "</style>\n",
       "<table border=\"1\" class=\"dataframe\">\n",
       "  <thead>\n",
       "    <tr style=\"text-align: right;\">\n",
       "      <th></th>\n",
       "      <th>POP</th>\n",
       "      <th>Dnu</th>\n",
       "      <th>numax</th>\n",
       "      <th>epsilon</th>\n",
       "    </tr>\n",
       "  </thead>\n",
       "  <tbody>\n",
       "    <tr>\n",
       "      <th>count</th>\n",
       "      <td>1001.000000</td>\n",
       "      <td>1001.000000</td>\n",
       "      <td>1001.000000</td>\n",
       "      <td>1001.000000</td>\n",
       "    </tr>\n",
       "    <tr>\n",
       "      <th>mean</th>\n",
       "      <td>0.712288</td>\n",
       "      <td>5.774810</td>\n",
       "      <td>58.441771</td>\n",
       "      <td>0.610774</td>\n",
       "    </tr>\n",
       "    <tr>\n",
       "      <th>std</th>\n",
       "      <td>0.452923</td>\n",
       "      <td>2.998103</td>\n",
       "      <td>43.425561</td>\n",
       "      <td>0.342518</td>\n",
       "    </tr>\n",
       "    <tr>\n",
       "      <th>min</th>\n",
       "      <td>0.000000</td>\n",
       "      <td>2.500080</td>\n",
       "      <td>17.979780</td>\n",
       "      <td>0.005000</td>\n",
       "    </tr>\n",
       "    <tr>\n",
       "      <th>25%</th>\n",
       "      <td>0.000000</td>\n",
       "      <td>4.073160</td>\n",
       "      <td>32.924350</td>\n",
       "      <td>0.220000</td>\n",
       "    </tr>\n",
       "    <tr>\n",
       "      <th>50%</th>\n",
       "      <td>1.000000</td>\n",
       "      <td>4.308740</td>\n",
       "      <td>38.293160</td>\n",
       "      <td>0.815000</td>\n",
       "    </tr>\n",
       "    <tr>\n",
       "      <th>75%</th>\n",
       "      <td>1.000000</td>\n",
       "      <td>6.580340</td>\n",
       "      <td>70.140830</td>\n",
       "      <td>0.890000</td>\n",
       "    </tr>\n",
       "    <tr>\n",
       "      <th>max</th>\n",
       "      <td>1.000000</td>\n",
       "      <td>17.699430</td>\n",
       "      <td>239.648480</td>\n",
       "      <td>1.000000</td>\n",
       "    </tr>\n",
       "  </tbody>\n",
       "</table>\n",
       "</div>"
      ],
      "text/plain": [
       "               POP          Dnu        numax      epsilon\n",
       "count  1001.000000  1001.000000  1001.000000  1001.000000\n",
       "mean      0.712288     5.774810    58.441771     0.610774\n",
       "std       0.452923     2.998103    43.425561     0.342518\n",
       "min       0.000000     2.500080    17.979780     0.005000\n",
       "25%       0.000000     4.073160    32.924350     0.220000\n",
       "50%       1.000000     4.308740    38.293160     0.815000\n",
       "75%       1.000000     6.580340    70.140830     0.890000\n",
       "max       1.000000    17.699430   239.648480     1.000000"
      ]
     },
     "execution_count": 554,
     "metadata": {},
     "output_type": "execute_result"
    }
   ],
   "source": [
    "# informa sobre los datos estadísticos de un DataFrame.\n",
    "df_gigantesrojos.describe()"
   ]
  },
  {
   "cell_type": "code",
   "execution_count": 555,
   "metadata": {},
   "outputs": [
    {
     "data": {
      "text/plain": [
       "POP  Dnu     \n",
       "0    2.67661     1\n",
       "     3.43939     1\n",
       "     3.46843     1\n",
       "     3.64914     1\n",
       "     4.05690     1\n",
       "                ..\n",
       "1    8.31658     1\n",
       "     8.35683     1\n",
       "     8.38482     1\n",
       "     12.54107    1\n",
       "     17.04898    1\n",
       "Name: Dnu, Length: 998, dtype: int64"
      ]
     },
     "execution_count": 555,
     "metadata": {},
     "output_type": "execute_result"
    }
   ],
   "source": [
    "# aca podemos comprobar que las gigantes rojas\n",
    "# 0: tiene una frecuencia baja\n",
    "# 1: tienen una frecuencia alta\n",
    "df_gigantesrojos.groupby(['POP', 'Dnu'])['Dnu'].count()"
   ]
  },
  {
   "cell_type": "code",
   "execution_count": 556,
   "metadata": {},
   "outputs": [
    {
     "data": {
      "text/plain": [
       "POP  numax    \n",
       "0    21.14192     1\n",
       "     30.26501     1\n",
       "     30.81600     1\n",
       "     31.79203     1\n",
       "     37.49922     1\n",
       "                 ..\n",
       "1    104.12676    1\n",
       "     105.45021    1\n",
       "     106.35651    1\n",
       "     165.92872    1\n",
       "     231.37257    1\n",
       "Name: numax, Length: 999, dtype: int64"
      ]
     },
     "execution_count": 556,
     "metadata": {},
     "output_type": "execute_result"
    }
   ],
   "source": [
    "# aca podemos comprobar que las gigantes rojas\n",
    "# 0: tiene una oscilacion baja\n",
    "# 1: tienen una oscilación  alta\n",
    "df_gigantesrojos.groupby(['POP', 'numax'])['numax'].count()"
   ]
  },
  {
   "cell_type": "code",
   "execution_count": 557,
   "metadata": {},
   "outputs": [
    {
     "data": {
      "text/plain": [
       "array([1, 0], dtype=int64)"
      ]
     },
     "execution_count": 557,
     "metadata": {},
     "output_type": "execute_result"
    }
   ],
   "source": [
    "# Devuelve valores únicos basados ​​en una tabla y un campo indicado. Lo utilizamos para encontras los valores unicos del campo 'POP'\n",
    "df_gigantesrojos['POP'].unique()"
   ]
  },
  {
   "cell_type": "code",
   "execution_count": 558,
   "metadata": {},
   "outputs": [
    {
     "data": {
      "text/plain": [
       "<AxesSubplot:ylabel='Dnu'>"
      ]
     },
     "execution_count": 558,
     "metadata": {},
     "output_type": "execute_result"
    },
    {
     "data": {
      "image/png": "[encoded data removed]",
      "text/plain": [
       "<Figure size 432x288 with 1 Axes>"
      ]
     },
     "metadata": {},
     "output_type": "display_data"
    }
   ],
   "source": [
    "# proporcion por tipo de estrella\n",
    "df_gigantesrojos.groupby('POP').count()['Dnu'].plot(kind='pie', autopct='%.2f%%')"
   ]
  },
  {
   "cell_type": "code",
   "execution_count": 559,
   "metadata": {},
   "outputs": [
    {
     "data": {
      "text/plain": [
       "<AxesSubplot:ylabel='Frequency'>"
      ]
     },
     "execution_count": 559,
     "metadata": {},
     "output_type": "execute_result"
    },
    {
     "data": {
      "image/png": "[encoded data removed]",
      "text/plain": [
       "<Figure size 432x288 with 1 Axes>"
      ]
     },
     "metadata": {
      "needs_background": "light"
     },
     "output_type": "display_data"
    }
   ],
   "source": [
    "# Un histograma es una representación de la distribución de datos. Esta función agrupa los valores de todas las Series ('Dnu') \n",
    "# dadas en el DataFrame en contenedores y dibuja todos los contenedores en uno\n",
    "df_gigantesrojos['Dnu'].plot(kind='hist', bins=20)"
   ]
  },
  {
   "cell_type": "code",
   "execution_count": 560,
   "metadata": {
    "scrolled": true
   },
   "outputs": [
    {
     "data": {
      "text/plain": [
       "<AxesSubplot:ylabel='Frequency'>"
      ]
     },
     "execution_count": 560,
     "metadata": {},
     "output_type": "execute_result"
    },
    {
     "data": {
      "image/png": "[encoded data removed]",
      "text/plain": [
       "<Figure size 432x288 with 1 Axes>"
      ]
     },
     "metadata": {
      "needs_background": "light"
     },
     "output_type": "display_data"
    }
   ],
   "source": [
    "# Un histograma es una representación de la distribución de datos. Esta función agrupa los valores de todas las Series ('numax') \n",
    "# dadas en el DataFrame en contenedores y dibuja todos los contenedores en uno\n",
    "df_gigantesrojos['numax'].plot(kind='hist', bins=20)"
   ]
  },
  {
   "cell_type": "markdown",
   "metadata": {},
   "source": [
    "### Formulación del Modelo"
   ]
  },
  {
   "cell_type": "code",
   "execution_count": 561,
   "metadata": {},
   "outputs": [],
   "source": [
    "# Modelo utliza los campos 'Dbu' y 'numax' para evaluar el campo 'POP' \n",
    "X = df_gigantesrojos[['Dnu','numax']]\n",
    "y =df_gigantesrojos['POP']"
   ]
  },
  {
   "cell_type": "markdown",
   "metadata": {},
   "source": [
    "### Escalamiento"
   ]
  },
  {
   "cell_type": "code",
   "execution_count": 562,
   "metadata": {},
   "outputs": [],
   "source": [
    "# Estandarice las características eliminando la media y escalando a la varianza de la unidad. \n",
    "from sklearn.preprocessing import StandardScaler"
   ]
  },
  {
   "cell_type": "code",
   "execution_count": 563,
   "metadata": {},
   "outputs": [
    {
     "data": {
      "text/plain": [
       "StandardScaler()"
      ]
     },
     "execution_count": 563,
     "metadata": {},
     "output_type": "execute_result"
    }
   ],
   "source": [
    "# utilizaremos el escalador estandar (estandarización)\n",
    "# Convertimos los valores inciales a valores mas pequeños los cuales se puedan representar y comparar.\n",
    "scaler = StandardScaler()\n",
    "scaler.fit(X)"
   ]
  },
  {
   "cell_type": "code",
   "execution_count": 564,
   "metadata": {},
   "outputs": [],
   "source": [
    "# asignamos las transformaciones a la variavle 'X_sc'\n",
    "X_sc = scaler.transform(X)"
   ]
  },
  {
   "cell_type": "code",
   "execution_count": 565,
   "metadata": {},
   "outputs": [
    {
     "data": {
      "text/plain": [
       "array([[-0.44283765, -0.35432054],\n",
       "       [ 0.39016827,  0.36021422],\n",
       "       [-1.04421481, -0.84929905],\n",
       "       [-0.51162215, -0.60616448],\n",
       "       [ 1.55922445,  1.42687271],\n",
       "       [-0.48725458, -0.4803402 ],\n",
       "       [-0.43635031, -0.27015615],\n",
       "       [ 0.62148001,  0.66823496],\n",
       "       [-0.56663774, -0.54505379],\n",
       "       [-0.53931015, -0.62068461]])"
      ]
     },
     "execution_count": 565,
     "metadata": {},
     "output_type": "execute_result"
    }
   ],
   "source": [
    "# revizamos el resultado de los datos escalados\n",
    "X_sc[:10]"
   ]
  },
  {
   "cell_type": "markdown",
   "metadata": {},
   "source": [
    "### Validación Cruzada"
   ]
  },
  {
   "cell_type": "code",
   "execution_count": 566,
   "metadata": {},
   "outputs": [],
   "source": [
    "from sklearn.model_selection import train_test_split"
   ]
  },
  {
   "cell_type": "code",
   "execution_count": 567,
   "metadata": {},
   "outputs": [],
   "source": [
    "X_train, X_test, y_train, y_test = train_test_split(X_sc, y, test_size=0.20, random_state=50)"
   ]
  },
  {
   "cell_type": "markdown",
   "metadata": {},
   "source": [
    "### Entrenamiento KNN\n"
   ]
  },
  {
   "cell_type": "code",
   "execution_count": 568,
   "metadata": {},
   "outputs": [],
   "source": [
    "# Es un tipo de clasificación donde la función solo se aproxima localmente y todos los cálculos se difieren hasta la evaluación de la\n",
    "#  función. Dado que este algoritmo se basa en la distancia para la clasificación, si las características representan diferentes \n",
    "# unidades físicas o vienen en escalas muy diferentes, la normalización de los datos de entrenamiento puede mejorar drásticamente su precisión.\n",
    "from sklearn.neighbors import KNeighborsClassifier"
   ]
  },
  {
   "cell_type": "code",
   "execution_count": 569,
   "metadata": {},
   "outputs": [
    {
     "data": {
      "text/plain": [
       "KNeighborsClassifier()"
      ]
     },
     "execution_count": 569,
     "metadata": {},
     "output_type": "execute_result"
    }
   ],
   "source": [
    "knn = KNeighborsClassifier()\n",
    "knn.fit(X_train,y_train)"
   ]
  },
  {
   "cell_type": "markdown",
   "metadata": {},
   "source": [
    "### Realizando predicciones"
   ]
  },
  {
   "cell_type": "code",
   "execution_count": 570,
   "metadata": {},
   "outputs": [],
   "source": [
    "# un joven de 18 años sin ingresos\n",
    "v1 = [[4.44780, 43.06289]]\n",
    "\n",
    "# un adulto con buen sueldo\n",
    "v2 = [[6.94399, 74.07646]]\n",
    "\n",
    "# un adulto mayor con pension\n",
    "v3 = [[5, 50]]\n"
   ]
  },
  {
   "cell_type": "code",
   "execution_count": 571,
   "metadata": {},
   "outputs": [
    {
     "name": "stderr",
     "output_type": "stream",
     "text": [
      "C:\\Users\\56954\\AppData\\Local\\Packages\\PythonSoftwareFoundation.Python.3.9_qbz5n2kfra8p0\\LocalCache\\local-packages\\Python39\\site-packages\\sklearn\\base.py:450: UserWarning: X does not have valid feature names, but StandardScaler was fitted with feature names\n",
      "  warnings.warn(\n"
     ]
    },
    {
     "data": {
      "text/plain": [
       "array([1], dtype=int64)"
      ]
     },
     "execution_count": 571,
     "metadata": {},
     "output_type": "execute_result"
    }
   ],
   "source": [
    "knn.predict(scaler.transform(v1))"
   ]
  },
  {
   "cell_type": "code",
   "execution_count": 572,
   "metadata": {},
   "outputs": [
    {
     "name": "stderr",
     "output_type": "stream",
     "text": [
      "C:\\Users\\56954\\AppData\\Local\\Packages\\PythonSoftwareFoundation.Python.3.9_qbz5n2kfra8p0\\LocalCache\\local-packages\\Python39\\site-packages\\sklearn\\base.py:450: UserWarning: X does not have valid feature names, but StandardScaler was fitted with feature names\n",
      "  warnings.warn(\n"
     ]
    },
    {
     "data": {
      "text/plain": [
       "array([0], dtype=int64)"
      ]
     },
     "execution_count": 572,
     "metadata": {},
     "output_type": "execute_result"
    }
   ],
   "source": [
    "knn.predict(scaler.transform(v2))"
   ]
  },
  {
   "cell_type": "code",
   "execution_count": 573,
   "metadata": {},
   "outputs": [
    {
     "name": "stderr",
     "output_type": "stream",
     "text": [
      "C:\\Users\\56954\\AppData\\Local\\Packages\\PythonSoftwareFoundation.Python.3.9_qbz5n2kfra8p0\\LocalCache\\local-packages\\Python39\\site-packages\\sklearn\\base.py:450: UserWarning: X does not have valid feature names, but StandardScaler was fitted with feature names\n",
      "  warnings.warn(\n"
     ]
    },
    {
     "data": {
      "text/plain": [
       "array([1], dtype=int64)"
      ]
     },
     "execution_count": 573,
     "metadata": {},
     "output_type": "execute_result"
    }
   ],
   "source": [
    "knn.predict(scaler.transform(v3))"
   ]
  },
  {
   "cell_type": "markdown",
   "metadata": {},
   "source": [
    "### Evaluación del Modelo"
   ]
  },
  {
   "cell_type": "code",
   "execution_count": 574,
   "metadata": {},
   "outputs": [],
   "source": [
    "from sklearn.metrics import confusion_matrix, accuracy_score"
   ]
  },
  {
   "cell_type": "code",
   "execution_count": 575,
   "metadata": {},
   "outputs": [],
   "source": [
    "# realizando predicciones en el set de test\n",
    "y_pred = knn.predict(X_test)"
   ]
  },
  {
   "cell_type": "code",
   "execution_count": 576,
   "metadata": {},
   "outputs": [
    {
     "data": {
      "text/plain": [
       "0.9601990049751243"
      ]
     },
     "execution_count": 576,
     "metadata": {},
     "output_type": "execute_result"
    }
   ],
   "source": [
    "# Este concepto se reifiera la dispersión del conjunto de valores obtenidos a partir de mediciones repetidas de una magnitud (Distancias).\n",
    "accuracy_score(y_test,y_pred)"
   ]
  },
  {
   "cell_type": "code",
   "execution_count": 577,
   "metadata": {},
   "outputs": [
    {
     "data": {
      "text/plain": [
       "array([[ 47,   5],\n",
       "       [  3, 146]], dtype=int64)"
      ]
     },
     "execution_count": 577,
     "metadata": {},
     "output_type": "execute_result"
    }
   ],
   "source": [
    "confusion_matrix(y_test, y_pred)"
   ]
  },
  {
   "cell_type": "code",
   "execution_count": 578,
   "metadata": {},
   "outputs": [],
   "source": [
    "# de acuerdo a la matriz de confusión.\n",
    "# 47 es la cantidad de positivos que fueron clasificados correctamente como positivo por el modelo\n",
    "# 146 es la cantidad de negativos que fuerron clasificados correctamente como negativo por el modelo\n",
    "# 5 es la cantidad de positivos que fueron clasificados incorectamente como negativo\n",
    "# 3 es la cantidad de negativos que fueron clasificados incorrectamente comom positivo"
   ]
  },
  {
   "cell_type": "markdown",
   "metadata": {},
   "source": [
    "### Serialización del Modelo Entrenado"
   ]
  },
  {
   "cell_type": "code",
   "execution_count": 579,
   "metadata": {},
   "outputs": [],
   "source": [
    "# Joblib es un conjunto de herramientas para proporcionar una canalización ligera en Python\n",
    "import joblib"
   ]
  },
  {
   "cell_type": "code",
   "execution_count": 580,
   "metadata": {},
   "outputs": [
    {
     "data": {
      "text/plain": [
       "['knn_model.pkl']"
      ]
     },
     "execution_count": 580,
     "metadata": {},
     "output_type": "execute_result"
    }
   ],
   "source": [
    "# serializamos modelo entrenado\n",
    "joblib.dump(knn, 'knn_model.pkl')"
   ]
  },
  {
   "cell_type": "code",
   "execution_count": 581,
   "metadata": {},
   "outputs": [
    {
     "data": {
      "text/plain": [
       "['scaler_model.pkl']"
      ]
     },
     "execution_count": 581,
     "metadata": {},
     "output_type": "execute_result"
    }
   ],
   "source": [
    "# serializamos escalador con parametros ajustados\n",
    "joblib.dump(scaler, 'scaler_model.pkl')"
   ]
  },
  {
   "cell_type": "markdown",
   "metadata": {},
   "source": [
    "---"
   ]
  }
 ],
 "metadata": {
  "kernelspec": {
   "display_name": "Python 3",
   "language": "python",
   "name": "python3"
  },
  "language_info": {
   "codemirror_mode": {
    "name": "ipython",
    "version": 3
   },
   "file_extension": ".py",
   "mimetype": "text/x-python",
   "name": "python",
   "nbconvert_exporter": "python",
   "pygments_lexer": "ipython3",
   "version": "3.9.11"
  }
 },
 "nbformat": 4,
 "nbformat_minor": 4
}
